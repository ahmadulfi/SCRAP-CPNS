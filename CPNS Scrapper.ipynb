{
 "cells": [
  {
   "cell_type": "markdown",
   "metadata": {},
   "source": [
    "# Web Scraping SSCASN BKN: From Interactive Elements to Meaningful Data"
   ]
  },
  {
   "cell_type": "markdown",
   "metadata": {},
   "source": [
    "Okay, so here’s the deal. I’m using this notebook to scrape data from the SSCASN BKN website. Why? Because I’m trying to figure out which job formations have a higher chance of getting me through the CPNS 2025 selection process. Instead of manually shifting through pages and pages of information, Why not let Python do the boring work?"
   ]
  },
  {
   "cell_type": "markdown",
   "metadata": {},
   "source": [
    "This project is super personal and I’m basically building my own cheat sheet to make smarter decisions during the application process. Plus, I get to brush up on my web scraping skills while I’m at it. Win-win, right?"
   ]
  },
  {
   "cell_type": "markdown",
   "metadata": {},
   "source": [
    "What’s the Plan?\n",
    "\n",
    "The SSCASN website has everything I need, but it’s not exactly user-friendly for data nerds like me. Especially the filter that only allow us to select one-selection per load. Hence, for the python scrape automation challenge is:\n",
    "\n",
    "- Dropdown menus that dynamically load options.\n",
    "- Pagination, because of course, all the good stuff is spread across multiple pages.\n",
    "- Dynamic tables that make scraping a bit tricky.\n",
    "- The job description of each formation is described in different link. How to gather all that data needed??\n",
    "\n",
    "The goal? \n",
    "\n",
    "Automate the whole process so I can get clean data in one go. Then let's analyze the data retrieved"
   ]
  },
  {
   "cell_type": "code",
   "execution_count": 1,
   "metadata": {},
   "outputs": [],
   "source": [
    "import pandas as pd\n",
    "import math\n",
    "import os\n",
    "from selenium import webdriver\n",
    "from selenium.webdriver.chrome.service import Service\n",
    "from selenium.webdriver.chrome.options import Options\n",
    "from selenium.webdriver.common.by import By\n",
    "from selenium.webdriver.support.ui import WebDriverWait\n",
    "from selenium.webdriver.support import expected_conditions as EC\n",
    "import time"
   ]
  },
  {
   "cell_type": "code",
   "execution_count": 50,
   "metadata": {},
   "outputs": [],
   "source": [
    "# This is path to the chromedriver. You can adjust as you need\n",
    "path_chromedriver = os.path.join(os.getcwd(), \"chromedriver-win64\", \"chromedriver.exe\")\n",
    "\n",
    "chrome_options = Options()\n",
    "service = Service(executable_path=path_chromedriver)"
   ]
  },
  {
   "cell_type": "code",
   "execution_count": 59,
   "metadata": {},
   "outputs": [],
   "source": [
    "# Let's load the Driver\n",
    "driver = webdriver.Chrome(service=service, options=chrome_options)\n",
    "url = \"https://sscasn.bkn.go.id/\" # this is the website links\n",
    "driver.get(url)"
   ]
  },
  {
   "cell_type": "markdown",
   "metadata": {},
   "source": [
    "This function was initially created for development purposes to reset the web driver back to the homepage of the SSCASN website. It was particularly useful for troubleshooting or ensuring the code ran smoothly by restarting the scraping process from a clean state. \n",
    "\n",
    "Now, it is also used as a convenient way to return to the homepage during operations"
   ]
  },
  {
   "cell_type": "code",
   "execution_count": 4,
   "metadata": {},
   "outputs": [],
   "source": [
    "def reset_scrap(): \n",
    "    \"\"\"\n",
    "    This function is created to reset the website into homepage.    \n",
    "    \"\"\"\n",
    "    url = \"https://sscasn.bkn.go.id/\"\n",
    "    driver.get(url)  \n",
    "reset_scrap()"
   ]
  },
  {
   "cell_type": "markdown",
   "metadata": {},
   "source": [
    "Here I limit the filters into my desired criteria, you may adjust it as you need \n",
    "(make sure the text matches exactly what already on the websites)"
   ]
  },
  {
   "cell_type": "code",
   "execution_count": 5,
   "metadata": {},
   "outputs": [],
   "source": [
    "jenjang = \"S-1/Sarjana\"\n",
    "pengadaan = \"CPNS\""
   ]
  },
  {
   "cell_type": "markdown",
   "metadata": {},
   "source": [
    "Since I want to perform multiple searchers, My plan is to loop through the prodi list and retrieve all the data for each prodi."
   ]
  },
  {
   "cell_type": "code",
   "execution_count": 8,
   "metadata": {},
   "outputs": [],
   "source": [
    "prodi_list = [\n",
    "    \"S-1 ILMU STATISTIK\",\n",
    "    \"S-1 ILMU STATISTIKA\",\n",
    "    \"S-1 KEPENDUDUKAN DAN STATISTIK\",\n",
    "    \"S-1 KOMPUTASI STATISTIKA\",\n",
    "    \"S-1 MATEMATIKA STATISTIKA\",\n",
    "    \"S-1 STATISTIK\",\n",
    "    \"S-1 STATISTIK (DATA ANALISIS)\",\n",
    "    \"S-1 STATISTIK KEUANGAN\",\n",
    "    \"S-1 STATISTIK KOMPUTASI\",\n",
    "    \"S-1 STATISTIKA\",\n",
    "    \"S-1 STATISTIKA BISNIS DAN INDUSTRI\",\n",
    "    \"S-1 STATISTIKA DAN SAINS DATA\",\n",
    "    \"S-1 STATISTIKA TERAPAN\",\n",
    "    \"S-1/D-IV STATISTIK\"\n",
    "]"
   ]
  },
  {
   "cell_type": "markdown",
   "metadata": {},
   "source": [
    "Here's is the data to interact with the filters."
   ]
  },
  {
   "cell_type": "code",
   "execution_count": 6,
   "metadata": {},
   "outputs": [],
   "source": [
    "all_data = [] #initiate base data"
   ]
  },
  {
   "cell_type": "code",
   "execution_count": 21,
   "metadata": {},
   "outputs": [],
   "source": [
    "def interact_with_filter(jenjang,prodi):\n",
    "    # Select the \"Jenjang Pendidikan\"\n",
    "    jenjang_pendidikan = WebDriverWait(driver, 10).until(\n",
    "        EC.presence_of_element_located((By.XPATH, '//*[@id=\"pencarian\"]/div/div/form/div[1]/div[1]/div/div/div/input'))\n",
    "    )\n",
    "    jenjang_pendidikan.click()\n",
    "\n",
    "    options = WebDriverWait(driver, 10).until(\n",
    "        EC.presence_of_all_elements_located((By.XPATH, \"//li[contains(text(), 'S-1/Sarjana')]\"))\n",
    "    )\n",
    "\n",
    "    for option in options:\n",
    "        if option.text == jenjang:\n",
    "            option.click() \n",
    "            break\n",
    "    time.sleep(1)  # Give the website time to load\n",
    "\n",
    "    # Select the \"Prodi\"\n",
    "    prodi_path = '//*[@id=\"pencarian\"]/div/div/form/div[1]/div[2]/div/div/div/input'\n",
    "    prodi_select = WebDriverWait(driver, 10).until(\n",
    "        EC.presence_of_element_located((By.XPATH, prodi_path))\n",
    "    )\n",
    "    prodi_select.click()\n",
    "\n",
    "    options = WebDriverWait(driver, 10).until(\n",
    "        EC.presence_of_all_elements_located((By.XPATH, f\"//li[contains(text(),'{prodi}')]\"))\n",
    "    )\n",
    "\n",
    "    for option in options:\n",
    "        if option.text == prodi:\n",
    "            option.click()\n",
    "            break\n",
    "\n",
    "    time.sleep(1)  # Give the website time to load\n",
    "\n",
    "    # Select the \"CPNS\"\n",
    "    pengadaan_path = '//*[@id=\"pencarian\"]/div/div/form/div[1]/div[4]/div/div/div/input'\n",
    "    pengadaan_select = WebDriverWait(driver, 10).until(\n",
    "        EC.presence_of_element_located((By.XPATH, pengadaan_path))\n",
    "    )\n",
    "    pengadaan_select.click()\n",
    "\n",
    "    options = WebDriverWait(driver, 10).until(\n",
    "        EC.presence_of_all_elements_located((By.XPATH, f\"//li[contains(text(),'{pengadaan}')]\"))\n",
    "    )\n",
    "\n",
    "    for option in options:\n",
    "        if option.text == pengadaan:\n",
    "            option.click()\n",
    "\n",
    "    time.sleep(1)  # Again, give the website time to load \n",
    "\n",
    "    # Finally, click the Search button\n",
    "    cari_path = '//*[@id=\"pencarian\"]/div/div/form/div[1]/div[5]/a'\n",
    "    driver.find_element(By.XPATH, cari_path).click()\n",
    "\n",
    "    time.sleep(5)  # Give the website time to load the tables\n",
    "\n",
    "    # Let's check for how many pages there are\n",
    "    total_formasi_path = driver.find_element(By.XPATH, '//*[@id=\"daftarFormasi\"]/div[2]/div/div/div[3]/ul/li[1]')\n",
    "\n",
    "    text_halaman = total_formasi_path.text\n",
    "    total_formasi = text_halaman.split(': ')[1].split()[0]\n",
    "    total_page = math.ceil(int(total_formasi) / 10)\n",
    "    \n",
    "    return total_page"
   ]
  },
  {
   "cell_type": "markdown",
   "metadata": {},
   "source": [
    "This function defines how to interact with the pagination, specifically the '>' button. \n",
    "\n",
    "Why does the code look like this? After analying the html structure, I discovered that the button dynamically changes based on unique patterns. To handle this, first I create a base format and then loop through with criteria to match each logic."
   ]
  },
  {
   "cell_type": "code",
   "execution_count": 8,
   "metadata": {},
   "outputs": [],
   "source": [
    "def klik(index):\n",
    "    \"\"\"This function created to click the pagination next button\"\"\"\n",
    "    \n",
    "    button_xpath = f'//*[@id=\"daftarFormasi\"]/div[2]/div/div/div[3]/ul/li[{index}]/button'\n",
    "    button = driver.find_element(By.XPATH,button_xpath)\n",
    "    button.click()"
   ]
  },
  {
   "cell_type": "markdown",
   "metadata": {},
   "source": [
    "and here it is the main agenda, extracting the data. We will extract the data from dynamic table that changes based on pagination and filters. "
   ]
  },
  {
   "cell_type": "code",
   "execution_count": 9,
   "metadata": {},
   "outputs": [],
   "source": [
    "def extract_data():\n",
    "    table_data = []\n",
    "    table = WebDriverWait(driver, 10).until(\n",
    "        EC.presence_of_element_located((By.XPATH, \"//table\"))\n",
    "    )\n",
    "\n",
    "    rows = table.find_elements(By.XPATH, \".//tbody/tr\")\n",
    "\n",
    "    for row in rows:\n",
    "\n",
    "        cells = row.find_elements(By.TAG_NAME, \"td\")\n",
    "        row_data = {\n",
    "            \"Jabatan\": cells[0].text,\n",
    "            \"Instansi\": cells[1].text,\n",
    "            \"Unit Kerja\": cells[2].text,\n",
    "            \"Formasi\": cells[3].text,\n",
    "            \"(PPPK) Khusus disabilitas? (CPNS) Dapat Diisi Disabilitas?\": cells[4].text,\n",
    "            \"Penghasilan (juta)\": cells[5].text,\n",
    "            \"Jumlah Kebutuhan\": cells[6].text,\n",
    "            \"Jumlah Lulus verifikasi\": cells[7].text,\n",
    "            \"Link\": cells[8].find_element(By.TAG_NAME, \"a\").get_attribute('href')\n",
    "        }\n",
    "\n",
    "        table_data.append(row_data)\n",
    "    return table_data"
   ]
  },
  {
   "cell_type": "code",
   "execution_count": 67,
   "metadata": {},
   "outputs": [],
   "source": [
    "def loop_data(start,total_page):\n",
    "    \"\"\"This function is created to loop the extracting progress\"\"\"\n",
    "    page_index = 10  \n",
    "    current_page = start\n",
    "\n",
    "    for i in range(current_page,total_page-current_page):\n",
    "        print(i)\n",
    "        data = extract_data()\n",
    "        all_data.extend(data)\n",
    "\n",
    "        if current_page<=3:\n",
    "            klik(page_index)\n",
    "\n",
    "        elif current_page == total_page-3 or current_page == 4:\n",
    "            page_index = 11\n",
    "            klik(page_index)\n",
    "\n",
    "        elif current_page >= total_page-2:\n",
    "            page_index = 10\n",
    "            klik(page_index)\n",
    "\n",
    "        else:\n",
    "            page_index = 12\n",
    "            klik(page_index)\n",
    "        \n",
    "        current_page += 1\n",
    "        if i%100==0: # adjust the website load\n",
    "            time.sleep(15)\n",
    "        else:\n",
    "            continue\n",
    "    reset_scrap()\n",
    "    time.sleep(5)"
   ]
  },
  {
   "cell_type": "code",
   "execution_count": null,
   "metadata": {},
   "outputs": [],
   "source": [
    "all_data = []\n",
    "for prodi in prodi_list:\n",
    "    pages = interact_with_filter(jenjang,prodi)\n",
    "    loop_data(pages)"
   ]
  },
  {
   "cell_type": "code",
   "execution_count": 14,
   "metadata": {},
   "outputs": [],
   "source": [
    "df = pd.DataFrame(all_data)\n",
    "df.to_excel(\"extracted_data.xlsx\", index=False) "
   ]
  },
  {
   "cell_type": "code",
   "execution_count": 65,
   "metadata": {},
   "outputs": [],
   "source": [
    "reset_scrap()"
   ]
  },
  {
   "cell_type": "code",
   "execution_count": 62,
   "metadata": {},
   "outputs": [],
   "source": [
    "loop_data(549,966)"
   ]
  },
  {
   "cell_type": "code",
   "execution_count": 64,
   "metadata": {},
   "outputs": [],
   "source": [
    "pd.DataFrame(all_data).to_excel(\"AKUNTANSI CPNS 2024.xlsx\",index=False)"
   ]
  },
  {
   "cell_type": "code",
   "execution_count": 52,
   "metadata": {},
   "outputs": [
    {
     "name": "stdout",
     "output_type": "stream",
     "text": [
      "1\n",
      "2\n",
      "3\n",
      "4\n",
      "5\n",
      "6\n",
      "7\n",
      "8\n",
      "9\n",
      "10\n",
      "11\n",
      "12\n",
      "13\n",
      "14\n",
      "15\n",
      "16\n",
      "17\n",
      "18\n",
      "19\n",
      "20\n",
      "21\n",
      "22\n",
      "23\n",
      "24\n",
      "25\n",
      "26\n",
      "27\n",
      "28\n",
      "29\n",
      "30\n",
      "31\n",
      "32\n",
      "33\n",
      "34\n",
      "35\n",
      "36\n",
      "37\n",
      "38\n",
      "39\n",
      "40\n",
      "41\n",
      "42\n",
      "43\n",
      "44\n",
      "45\n",
      "46\n",
      "47\n",
      "48\n",
      "49\n",
      "50\n",
      "51\n",
      "52\n",
      "53\n",
      "54\n",
      "55\n",
      "56\n",
      "57\n",
      "58\n",
      "59\n",
      "60\n",
      "61\n",
      "62\n",
      "63\n",
      "64\n",
      "65\n",
      "66\n",
      "67\n",
      "68\n",
      "69\n",
      "70\n",
      "71\n",
      "72\n",
      "73\n",
      "74\n",
      "75\n",
      "76\n",
      "77\n",
      "78\n",
      "79\n",
      "80\n",
      "81\n",
      "82\n",
      "83\n",
      "84\n",
      "85\n",
      "86\n",
      "87\n",
      "88\n",
      "89\n",
      "90\n",
      "91\n",
      "92\n",
      "93\n",
      "94\n",
      "95\n",
      "96\n",
      "97\n",
      "98\n",
      "99\n",
      "100\n",
      "101\n",
      "102\n",
      "103\n",
      "104\n",
      "105\n",
      "106\n",
      "107\n",
      "108\n",
      "109\n",
      "110\n",
      "111\n",
      "112\n",
      "113\n",
      "114\n",
      "115\n",
      "116\n",
      "117\n",
      "118\n",
      "119\n",
      "120\n",
      "121\n",
      "122\n",
      "123\n",
      "124\n",
      "125\n",
      "126\n",
      "127\n",
      "128\n",
      "129\n",
      "130\n",
      "131\n",
      "132\n",
      "133\n",
      "134\n",
      "135\n",
      "136\n",
      "137\n",
      "138\n",
      "139\n",
      "140\n",
      "141\n",
      "142\n",
      "143\n",
      "144\n",
      "145\n",
      "146\n",
      "147\n",
      "148\n",
      "149\n",
      "150\n",
      "151\n",
      "152\n",
      "153\n",
      "154\n",
      "155\n",
      "156\n",
      "157\n",
      "158\n",
      "159\n",
      "160\n",
      "161\n",
      "162\n",
      "163\n",
      "164\n",
      "165\n",
      "166\n",
      "167\n",
      "168\n",
      "169\n",
      "170\n",
      "171\n",
      "172\n"
     ]
    },
    {
     "ename": "StaleElementReferenceException",
     "evalue": "Message: stale element reference: stale element not found in the current frame\n  (Session info: chrome=131.0.6778.265); For documentation on this error, please visit: https://www.selenium.dev/documentation/webdriver/troubleshooting/errors#stale-element-reference-exception\nStacktrace:\n\tGetHandleVerifier [0x00007FF6867AFB05+28789]\n\t(No symbol) [0x00007FF6867186E0]\n\t(No symbol) [0x00007FF6865B592A]\n\t(No symbol) [0x00007FF6865BC48F]\n\t(No symbol) [0x00007FF6865BF4BF]\n\t(No symbol) [0x00007FF686650910]\n\t(No symbol) [0x00007FF68662F43A]\n\t(No symbol) [0x00007FF68664F654]\n\t(No symbol) [0x00007FF68662F1E3]\n\t(No symbol) [0x00007FF6865FA938]\n\t(No symbol) [0x00007FF6865FBAA1]\n\tGetHandleVerifier [0x00007FF686AE933D+3410093]\n\tGetHandleVerifier [0x00007FF686AFE7DD+3497293]\n\tGetHandleVerifier [0x00007FF686AF2A73+3448803]\n\tGetHandleVerifier [0x00007FF686877BBB+848171]\n\t(No symbol) [0x00007FF686723C3F]\n\t(No symbol) [0x00007FF68671F6E4]\n\t(No symbol) [0x00007FF68671F87D]\n\t(No symbol) [0x00007FF68670ED49]\n\tBaseThreadInitThunk [0x00007FF85254259D+29]\n\tRtlUserThreadStart [0x00007FF8530AAF38+40]\n",
     "output_type": "error",
     "traceback": [
      "\u001b[1;31m---------------------------------------------------------------------------\u001b[0m",
      "\u001b[1;31mStaleElementReferenceException\u001b[0m            Traceback (most recent call last)",
      "Cell \u001b[1;32mIn[52], line 3\u001b[0m\n\u001b[0;32m      1\u001b[0m \u001b[38;5;66;03m# request\u001b[39;00m\n\u001b[0;32m      2\u001b[0m all_data \u001b[38;5;241m=\u001b[39m []\n\u001b[1;32m----> 3\u001b[0m \u001b[43mloop_data\u001b[49m\u001b[43m(\u001b[49m\u001b[38;5;241;43m966\u001b[39;49m\u001b[43m)\u001b[49m\n\u001b[0;32m      4\u001b[0m pd\u001b[38;5;241m.\u001b[39mDataFrame(all_data)\u001b[38;5;241m.\u001b[39mto_excel(\u001b[38;5;124m\"\u001b[39m\u001b[38;5;124mAKUTANSI CPNS 2024.xlsx\u001b[39m\u001b[38;5;124m\"\u001b[39m,index\u001b[38;5;241m=\u001b[39m\u001b[38;5;28;01mFalse\u001b[39;00m)\n",
      "Cell \u001b[1;32mIn[47], line 8\u001b[0m, in \u001b[0;36mloop_data\u001b[1;34m(total_page)\u001b[0m\n\u001b[0;32m      6\u001b[0m \u001b[38;5;28;01mfor\u001b[39;00m i \u001b[38;5;129;01min\u001b[39;00m \u001b[38;5;28mrange\u001b[39m(current_page,total_page):\n\u001b[0;32m      7\u001b[0m     \u001b[38;5;28mprint\u001b[39m(i)\n\u001b[1;32m----> 8\u001b[0m     data \u001b[38;5;241m=\u001b[39m \u001b[43mextract_data\u001b[49m\u001b[43m(\u001b[49m\u001b[43m)\u001b[49m\n\u001b[0;32m      9\u001b[0m     all_data\u001b[38;5;241m.\u001b[39mextend(data)\n\u001b[0;32m     11\u001b[0m     \u001b[38;5;28;01mif\u001b[39;00m current_page\u001b[38;5;241m<\u001b[39m\u001b[38;5;241m=\u001b[39m\u001b[38;5;241m3\u001b[39m:\n",
      "Cell \u001b[1;32mIn[9], line 21\u001b[0m, in \u001b[0;36mextract_data\u001b[1;34m()\u001b[0m\n\u001b[0;32m      9\u001b[0m \u001b[38;5;28;01mfor\u001b[39;00m row \u001b[38;5;129;01min\u001b[39;00m rows:\n\u001b[0;32m     11\u001b[0m     cells \u001b[38;5;241m=\u001b[39m row\u001b[38;5;241m.\u001b[39mfind_elements(By\u001b[38;5;241m.\u001b[39mTAG_NAME, \u001b[38;5;124m\"\u001b[39m\u001b[38;5;124mtd\u001b[39m\u001b[38;5;124m\"\u001b[39m)\n\u001b[0;32m     12\u001b[0m     row_data \u001b[38;5;241m=\u001b[39m {\n\u001b[0;32m     13\u001b[0m         \u001b[38;5;124m\"\u001b[39m\u001b[38;5;124mJabatan\u001b[39m\u001b[38;5;124m\"\u001b[39m: cells[\u001b[38;5;241m0\u001b[39m]\u001b[38;5;241m.\u001b[39mtext,\n\u001b[0;32m     14\u001b[0m         \u001b[38;5;124m\"\u001b[39m\u001b[38;5;124mInstansi\u001b[39m\u001b[38;5;124m\"\u001b[39m: cells[\u001b[38;5;241m1\u001b[39m]\u001b[38;5;241m.\u001b[39mtext,\n\u001b[0;32m     15\u001b[0m         \u001b[38;5;124m\"\u001b[39m\u001b[38;5;124mUnit Kerja\u001b[39m\u001b[38;5;124m\"\u001b[39m: cells[\u001b[38;5;241m2\u001b[39m]\u001b[38;5;241m.\u001b[39mtext,\n\u001b[0;32m     16\u001b[0m         \u001b[38;5;124m\"\u001b[39m\u001b[38;5;124mFormasi\u001b[39m\u001b[38;5;124m\"\u001b[39m: cells[\u001b[38;5;241m3\u001b[39m]\u001b[38;5;241m.\u001b[39mtext,\n\u001b[0;32m     17\u001b[0m         \u001b[38;5;124m\"\u001b[39m\u001b[38;5;124m(PPPK) Khusus disabilitas? (CPNS) Dapat Diisi Disabilitas?\u001b[39m\u001b[38;5;124m\"\u001b[39m: cells[\u001b[38;5;241m4\u001b[39m]\u001b[38;5;241m.\u001b[39mtext,\n\u001b[0;32m     18\u001b[0m         \u001b[38;5;124m\"\u001b[39m\u001b[38;5;124mPenghasilan (juta)\u001b[39m\u001b[38;5;124m\"\u001b[39m: cells[\u001b[38;5;241m5\u001b[39m]\u001b[38;5;241m.\u001b[39mtext,\n\u001b[0;32m     19\u001b[0m         \u001b[38;5;124m\"\u001b[39m\u001b[38;5;124mJumlah Kebutuhan\u001b[39m\u001b[38;5;124m\"\u001b[39m: cells[\u001b[38;5;241m6\u001b[39m]\u001b[38;5;241m.\u001b[39mtext,\n\u001b[0;32m     20\u001b[0m         \u001b[38;5;124m\"\u001b[39m\u001b[38;5;124mJumlah Lulus verifikasi\u001b[39m\u001b[38;5;124m\"\u001b[39m: cells[\u001b[38;5;241m7\u001b[39m]\u001b[38;5;241m.\u001b[39mtext,\n\u001b[1;32m---> 21\u001b[0m         \u001b[38;5;124m\"\u001b[39m\u001b[38;5;124mLink\u001b[39m\u001b[38;5;124m\"\u001b[39m: \u001b[43mcells\u001b[49m\u001b[43m[\u001b[49m\u001b[38;5;241;43m8\u001b[39;49m\u001b[43m]\u001b[49m\u001b[38;5;241;43m.\u001b[39;49m\u001b[43mfind_element\u001b[49m\u001b[43m(\u001b[49m\u001b[43mBy\u001b[49m\u001b[38;5;241;43m.\u001b[39;49m\u001b[43mTAG_NAME\u001b[49m\u001b[43m,\u001b[49m\u001b[43m \u001b[49m\u001b[38;5;124;43m\"\u001b[39;49m\u001b[38;5;124;43ma\u001b[39;49m\u001b[38;5;124;43m\"\u001b[39;49m\u001b[43m)\u001b[49m\u001b[38;5;241;43m.\u001b[39;49m\u001b[43mget_attribute\u001b[49m\u001b[43m(\u001b[49m\u001b[38;5;124;43m'\u001b[39;49m\u001b[38;5;124;43mhref\u001b[39;49m\u001b[38;5;124;43m'\u001b[39;49m\u001b[43m)\u001b[49m\n\u001b[0;32m     22\u001b[0m     }\n\u001b[0;32m     24\u001b[0m     table_data\u001b[38;5;241m.\u001b[39mappend(row_data)\n\u001b[0;32m     25\u001b[0m \u001b[38;5;28;01mreturn\u001b[39;00m table_data\n",
      "File \u001b[1;32mc:\\Users\\Ahmad Ulfi\\AppData\\Local\\Programs\\Python\\Python313\\Lib\\site-packages\\selenium\\webdriver\\remote\\webelement.py:178\u001b[0m, in \u001b[0;36mWebElement.get_attribute\u001b[1;34m(self, name)\u001b[0m\n\u001b[0;32m    176\u001b[0m \u001b[38;5;28;01mif\u001b[39;00m getAttribute_js \u001b[38;5;129;01mis\u001b[39;00m \u001b[38;5;28;01mNone\u001b[39;00m:\n\u001b[0;32m    177\u001b[0m     _load_js()\n\u001b[1;32m--> 178\u001b[0m attribute_value \u001b[38;5;241m=\u001b[39m \u001b[38;5;28;43mself\u001b[39;49m\u001b[38;5;241;43m.\u001b[39;49m\u001b[43mparent\u001b[49m\u001b[38;5;241;43m.\u001b[39;49m\u001b[43mexecute_script\u001b[49m\u001b[43m(\u001b[49m\n\u001b[0;32m    179\u001b[0m \u001b[43m    \u001b[49m\u001b[38;5;124;43mf\u001b[39;49m\u001b[38;5;124;43m\"\u001b[39;49m\u001b[38;5;124;43m/* getAttribute */return (\u001b[39;49m\u001b[38;5;132;43;01m{\u001b[39;49;00m\u001b[43mgetAttribute_js\u001b[49m\u001b[38;5;132;43;01m}\u001b[39;49;00m\u001b[38;5;124;43m).apply(null, arguments);\u001b[39;49m\u001b[38;5;124;43m\"\u001b[39;49m\u001b[43m,\u001b[49m\u001b[43m \u001b[49m\u001b[38;5;28;43mself\u001b[39;49m\u001b[43m,\u001b[49m\u001b[43m \u001b[49m\u001b[43mname\u001b[49m\n\u001b[0;32m    180\u001b[0m \u001b[43m\u001b[49m\u001b[43m)\u001b[49m\n\u001b[0;32m    181\u001b[0m \u001b[38;5;28;01mreturn\u001b[39;00m attribute_value\n",
      "File \u001b[1;32mc:\\Users\\Ahmad Ulfi\\AppData\\Local\\Programs\\Python\\Python313\\Lib\\site-packages\\selenium\\webdriver\\remote\\webdriver.py:444\u001b[0m, in \u001b[0;36mWebDriver.execute_script\u001b[1;34m(self, script, *args)\u001b[0m\n\u001b[0;32m    441\u001b[0m converted_args \u001b[38;5;241m=\u001b[39m \u001b[38;5;28mlist\u001b[39m(args)\n\u001b[0;32m    442\u001b[0m command \u001b[38;5;241m=\u001b[39m Command\u001b[38;5;241m.\u001b[39mW3C_EXECUTE_SCRIPT\n\u001b[1;32m--> 444\u001b[0m \u001b[38;5;28;01mreturn\u001b[39;00m \u001b[38;5;28;43mself\u001b[39;49m\u001b[38;5;241;43m.\u001b[39;49m\u001b[43mexecute\u001b[49m\u001b[43m(\u001b[49m\u001b[43mcommand\u001b[49m\u001b[43m,\u001b[49m\u001b[43m \u001b[49m\u001b[43m{\u001b[49m\u001b[38;5;124;43m\"\u001b[39;49m\u001b[38;5;124;43mscript\u001b[39;49m\u001b[38;5;124;43m\"\u001b[39;49m\u001b[43m:\u001b[49m\u001b[43m \u001b[49m\u001b[43mscript\u001b[49m\u001b[43m,\u001b[49m\u001b[43m \u001b[49m\u001b[38;5;124;43m\"\u001b[39;49m\u001b[38;5;124;43margs\u001b[39;49m\u001b[38;5;124;43m\"\u001b[39;49m\u001b[43m:\u001b[49m\u001b[43m \u001b[49m\u001b[43mconverted_args\u001b[49m\u001b[43m}\u001b[49m\u001b[43m)\u001b[49m[\u001b[38;5;124m\"\u001b[39m\u001b[38;5;124mvalue\u001b[39m\u001b[38;5;124m\"\u001b[39m]\n",
      "File \u001b[1;32mc:\\Users\\Ahmad Ulfi\\AppData\\Local\\Programs\\Python\\Python313\\Lib\\site-packages\\selenium\\webdriver\\remote\\webdriver.py:384\u001b[0m, in \u001b[0;36mWebDriver.execute\u001b[1;34m(self, driver_command, params)\u001b[0m\n\u001b[0;32m    382\u001b[0m response \u001b[38;5;241m=\u001b[39m \u001b[38;5;28mself\u001b[39m\u001b[38;5;241m.\u001b[39mcommand_executor\u001b[38;5;241m.\u001b[39mexecute(driver_command, params)\n\u001b[0;32m    383\u001b[0m \u001b[38;5;28;01mif\u001b[39;00m response:\n\u001b[1;32m--> 384\u001b[0m     \u001b[38;5;28;43mself\u001b[39;49m\u001b[38;5;241;43m.\u001b[39;49m\u001b[43merror_handler\u001b[49m\u001b[38;5;241;43m.\u001b[39;49m\u001b[43mcheck_response\u001b[49m\u001b[43m(\u001b[49m\u001b[43mresponse\u001b[49m\u001b[43m)\u001b[49m\n\u001b[0;32m    385\u001b[0m     response[\u001b[38;5;124m\"\u001b[39m\u001b[38;5;124mvalue\u001b[39m\u001b[38;5;124m\"\u001b[39m] \u001b[38;5;241m=\u001b[39m \u001b[38;5;28mself\u001b[39m\u001b[38;5;241m.\u001b[39m_unwrap_value(response\u001b[38;5;241m.\u001b[39mget(\u001b[38;5;124m\"\u001b[39m\u001b[38;5;124mvalue\u001b[39m\u001b[38;5;124m\"\u001b[39m, \u001b[38;5;28;01mNone\u001b[39;00m))\n\u001b[0;32m    386\u001b[0m     \u001b[38;5;28;01mreturn\u001b[39;00m response\n",
      "File \u001b[1;32mc:\\Users\\Ahmad Ulfi\\AppData\\Local\\Programs\\Python\\Python313\\Lib\\site-packages\\selenium\\webdriver\\remote\\errorhandler.py:232\u001b[0m, in \u001b[0;36mErrorHandler.check_response\u001b[1;34m(self, response)\u001b[0m\n\u001b[0;32m    230\u001b[0m         alert_text \u001b[38;5;241m=\u001b[39m value[\u001b[38;5;124m\"\u001b[39m\u001b[38;5;124malert\u001b[39m\u001b[38;5;124m\"\u001b[39m]\u001b[38;5;241m.\u001b[39mget(\u001b[38;5;124m\"\u001b[39m\u001b[38;5;124mtext\u001b[39m\u001b[38;5;124m\"\u001b[39m)\n\u001b[0;32m    231\u001b[0m     \u001b[38;5;28;01mraise\u001b[39;00m exception_class(message, screen, stacktrace, alert_text)  \u001b[38;5;66;03m# type: ignore[call-arg]  # mypy is not smart enough here\u001b[39;00m\n\u001b[1;32m--> 232\u001b[0m \u001b[38;5;28;01mraise\u001b[39;00m exception_class(message, screen, stacktrace)\n",
      "\u001b[1;31mStaleElementReferenceException\u001b[0m: Message: stale element reference: stale element not found in the current frame\n  (Session info: chrome=131.0.6778.265); For documentation on this error, please visit: https://www.selenium.dev/documentation/webdriver/troubleshooting/errors#stale-element-reference-exception\nStacktrace:\n\tGetHandleVerifier [0x00007FF6867AFB05+28789]\n\t(No symbol) [0x00007FF6867186E0]\n\t(No symbol) [0x00007FF6865B592A]\n\t(No symbol) [0x00007FF6865BC48F]\n\t(No symbol) [0x00007FF6865BF4BF]\n\t(No symbol) [0x00007FF686650910]\n\t(No symbol) [0x00007FF68662F43A]\n\t(No symbol) [0x00007FF68664F654]\n\t(No symbol) [0x00007FF68662F1E3]\n\t(No symbol) [0x00007FF6865FA938]\n\t(No symbol) [0x00007FF6865FBAA1]\n\tGetHandleVerifier [0x00007FF686AE933D+3410093]\n\tGetHandleVerifier [0x00007FF686AFE7DD+3497293]\n\tGetHandleVerifier [0x00007FF686AF2A73+3448803]\n\tGetHandleVerifier [0x00007FF686877BBB+848171]\n\t(No symbol) [0x00007FF686723C3F]\n\t(No symbol) [0x00007FF68671F6E4]\n\t(No symbol) [0x00007FF68671F87D]\n\t(No symbol) [0x00007FF68670ED49]\n\tBaseThreadInitThunk [0x00007FF85254259D+29]\n\tRtlUserThreadStart [0x00007FF8530AAF38+40]\n"
     ]
    }
   ],
   "source": [
    "# request\n",
    "all_data = []\n",
    "loop_data(966)\n",
    "pd.DataFrame(all_data).to_excel(\"AKUTANSI CPNS 2024.xlsx\",index=False)"
   ]
  }
 ],
 "metadata": {
  "kernelspec": {
   "display_name": "Python 3",
   "language": "python",
   "name": "python3"
  },
  "language_info": {
   "codemirror_mode": {
    "name": "ipython",
    "version": 3
   },
   "file_extension": ".py",
   "mimetype": "text/x-python",
   "name": "python",
   "nbconvert_exporter": "python",
   "pygments_lexer": "ipython3",
   "version": "3.13.1"
  }
 },
 "nbformat": 4,
 "nbformat_minor": 2
}
